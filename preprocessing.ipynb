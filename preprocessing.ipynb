{
 "cells": [
  {
   "cell_type": "code",
   "execution_count": 1,
   "id": "a809c64d",
   "metadata": {},
   "outputs": [],
   "source": [
    "import numpy as np\n",
    "import pandas as pd\n",
    "from datetime import date\n",
    "from dateutil.rrule import rrule, MONTHLY, YEARLY\n",
    "from dateutil.relativedelta import relativedelta\n",
    "from typing import List\n",
    "import re\n",
    "import os"
   ]
  },
  {
   "cell_type": "markdown",
   "id": "3b0ae40f",
   "metadata": {},
   "source": [
    "## Data Preprocessing"
   ]
  },
  {
   "attachments": {},
   "cell_type": "markdown",
   "id": "aea009ba",
   "metadata": {},
   "source": [
    "Строки с 7 по 26 я решил убрать, так как не понял их смысл. Столбцы до 8 тоже убраны, так как в них не содержится информации. Данные по CRBO в папке oil_gas_train есть, одна в oil_gas_train_test их нет вообще, поэтому по этой компании мы данные не собираем.\n",
    "<img src=\"images/excel.png\" />\n",
    "\n",
    "Что касается отбора признаков, то я старался отобрать их таким образом, чтобы среди них не было признаков, которые выводятся из остальных. "
   ]
  },
  {
   "cell_type": "code",
   "execution_count": 2,
   "id": "7ba11877",
   "metadata": {},
   "outputs": [],
   "source": [
    "def preprocess_data(path: str, features_to_parse: List[str], indices: List[date]) -> pd.DataFrame:\n",
    "    df = pd.read_excel(path)\n",
    "#     if 'CRBO' in path:\n",
    "#         df = pd.concat([df.iloc[27:, 8], df.iloc[27:, 13:]], axis=1)\n",
    "#     else:\n",
    "#         df = df.iloc[27:, 8:]\n",
    "    df = df.iloc[27:, 8:]\n",
    "    df = df[df.iloc[:, 0].isin(features_to_parse)]\n",
    "    \n",
    "    df = df.transpose()\n",
    "    new_header = df.iloc[0]\n",
    "    df = df[1:]\n",
    "    df.columns = new_header\n",
    "    df.columns.name = 'features'\n",
    "    df = df.loc[:,~df.columns.duplicated()]\n",
    "    \n",
    "    df['date'] = pd.to_datetime(dates)\n",
    "    df.set_index('date', inplace=True)\n",
    "    \n",
    "    df['Company'] = re.findall(r'/.*\\.', path)[0][1:-1]\n",
    "    \n",
    "    return df"
   ]
  },
  {
   "cell_type": "code",
   "execution_count": 3,
   "id": "3ec3ae1c",
   "metadata": {},
   "outputs": [],
   "source": [
    "directory_path = 'oil_gas_train_test'\n",
    "\n",
    "dates = [date(2011, 3, 31) + relativedelta(months=i) for i in range(0, 124, 3)]\n",
    "\n",
    "features_to_parse = ['Revenue', 'Gross Profit', 'Operating Income', 'Pretax Income',\n",
    "                    'Income (Loss) from Cont Ops', 'Net Income', 'Net Income Avail to Common',\n",
    "                    'Diluted EPS', 'EBITDA', 'Total Equity',\n",
    "                    'Cash from Operations', 'Cash from Investing Activities', 'Cash from Financing Activities']"
   ]
  },
  {
   "cell_type": "code",
   "execution_count": 4,
   "id": "542c5ca8",
   "metadata": {},
   "outputs": [],
   "source": [
    "dfs = []\n",
    "for path in os.listdir(directory_path):\n",
    "    if 'CRBO' in path or 'DS_Store' in path:\n",
    "        continue\n",
    "    df = preprocess_data(os.path.join(directory_path, path), features_to_parse, indices=dates)\n",
    "    dfs.append(df)\n",
    "    \n",
    "df = pd.concat(dfs)\n",
    "df.to_csv('data.csv')"
   ]
  }
 ],
 "metadata": {
  "kernelspec": {
   "display_name": "Python 3 (ipykernel)",
   "language": "python",
   "name": "python3"
  },
  "language_info": {
   "codemirror_mode": {
    "name": "ipython",
    "version": 3
   },
   "file_extension": ".py",
   "mimetype": "text/x-python",
   "name": "python",
   "nbconvert_exporter": "python",
   "pygments_lexer": "ipython3",
   "version": "3.8.13"
  }
 },
 "nbformat": 4,
 "nbformat_minor": 5
}
